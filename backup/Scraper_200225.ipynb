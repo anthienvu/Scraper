{
 "cells": [
  {
   "cell_type": "code",
   "execution_count": 1,
   "metadata": {
    "collapsed": false
   },
   "outputs": [],
   "source": [
    "import requests\n",
    "from bs4 import BeautifulSoup\n",
    "import csv\n",
    "import re"
   ]
  },
  {
   "cell_type": "code",
   "execution_count": 10,
   "metadata": {
    "collapsed": true
   },
   "outputs": [],
   "source": [
    "url = 'https://www.canada.ca/en/privy-council/corporate/contact-us'\n",
    "all_links=[]\n",
    "phones = []\n",
    "emails = []\n",
    "\n",
    "response = requests.get(url)\n",
    "soup = BeautifulSoup(response.text, 'html.parser')\n",
    "links = [n.get('href') for n in soup.find_all('a')]"
   ]
  },
  {
   "cell_type": "code",
   "execution_count": 11,
   "metadata": {
    "collapsed": false
   },
   "outputs": [],
   "source": [
    "#filter links\n",
    "for i in links:\n",
    "    try:\n",
    "        if \"contact\" in i or \"Contact\" in i  or \"Career\" in i or \"career\" in i or 'about' in i or \"About\" in i or 'Services' in i or 'services' in i :\n",
    "            all_links.append(i)\n",
    "    except:\n",
    "        continue"
   ]
  },
  {
   "cell_type": "code",
   "execution_count": 12,
   "metadata": {
    "collapsed": false
   },
   "outputs": [
    {
     "data": {
      "text/plain": [
       "['/fr/conseil-prive/organisation/contactez-nous.html',\n",
       " 'https://www.canada.ca/en/services/jobs.html',\n",
       " 'https://www.canada.ca/en/services/immigration-citizenship.html',\n",
       " 'https://www.canada.ca/en/services/business.html',\n",
       " 'https://www.canada.ca/en/services/benefits.html',\n",
       " 'https://www.canada.ca/en/services/health.html',\n",
       " 'https://www.canada.ca/en/services/taxes.html',\n",
       " 'https://www.canada.ca/en/services/environment.html',\n",
       " 'https://www.canada.ca/en/services/defence.html',\n",
       " 'https://www.canada.ca/en/services/culture.html',\n",
       " 'https://www.canada.ca/en/services/policing.html',\n",
       " 'https://www.canada.ca/en/services/transport.html',\n",
       " 'https://www.canada.ca/en/services/finance.html',\n",
       " 'https://www.canada.ca/en/services/science.html',\n",
       " '/en/privy-council/corporate/contact-us/copyright.html',\n",
       " 'https://www.canada.ca/en/contact/index.html',\n",
       " '/en/contact.html',\n",
       " '/en/government/about.html']"
      ]
     },
     "execution_count": 12,
     "metadata": {},
     "output_type": "execute_result"
    }
   ],
   "source": [
    "all_links"
   ]
  },
  {
   "cell_type": "code",
   "execution_count": 13,
   "metadata": {
    "collapsed": false
   },
   "outputs": [
    {
     "name": "stdout",
     "output_type": "stream",
     "text": [
      "/fr/conseil-prive/organisation/contactez-nous.html\n",
      "/en/privy-council/corporate/contact-us/copyright.html\n",
      "/en/contact.html\n",
      "/en/government/about.html\n"
     ]
    }
   ],
   "source": [
    "for n in all_links:\n",
    "    try:\n",
    "        data = requests.get(n)\n",
    "        # extract the phone numbers, emails, whatever\n",
    "        phones = re.findall(r'(\\(?[0-9]{3}\\)?(?:\\-|\\s|\\.)?[0-9]{3}(?:\\-|\\.)[0-9]{4})', data.text)\n",
    "        emails = re.findall(r'([\\d\\w\\.]+@[\\d\\w\\.\\-]+\\.\\w+)', data.text)\n",
    "    except:\n",
    "        print(n)\n",
    "        continue"
   ]
  },
  {
   "cell_type": "code",
   "execution_count": 14,
   "metadata": {
    "collapsed": false
   },
   "outputs": [
    {
     "data": {
      "text/plain": [
       "['002005-0008', '605379.1867', '445363.1441']"
      ]
     },
     "execution_count": 14,
     "metadata": {},
     "output_type": "execute_result"
    }
   ],
   "source": [
    "phones"
   ]
  },
  {
   "cell_type": "code",
   "execution_count": 15,
   "metadata": {
    "collapsed": false
   },
   "outputs": [
    {
     "data": {
      "text/plain": [
       "[]"
      ]
     },
     "execution_count": 15,
     "metadata": {},
     "output_type": "execute_result"
    }
   ],
   "source": [
    "emails"
   ]
  },
  {
   "cell_type": "code",
   "execution_count": 16,
   "metadata": {
    "collapsed": false
   },
   "outputs": [
    {
     "name": "stdout",
     "output_type": "stream",
     "text": [
      "/fr/conseil-prive/organisation/contactez-nous.html\n",
      "https://www.canada.ca/en/services/jobs.html\n",
      "https://www.canada.ca/en/services/immigration-citizenship.html\n",
      "https://www.canada.ca/en/services/business.html\n",
      "https://www.canada.ca/en/services/benefits.html\n",
      "https://www.canada.ca/en/services/health.html\n",
      "https://www.canada.ca/en/services/taxes.html\n",
      "https://www.canada.ca/en/services/environment.html\n",
      "https://www.canada.ca/en/services/defence.html\n",
      "https://www.canada.ca/en/services/culture.html\n",
      "https://www.canada.ca/en/services/policing.html\n",
      "https://www.canada.ca/en/services/transport.html\n",
      "https://www.canada.ca/en/services/finance.html\n",
      "https://www.canada.ca/en/services/science.html\n",
      "/en/privy-council/corporate/contact-us/copyright.html\n",
      "https://www.canada.ca/en/contact/index.html\n",
      "/en/contact.html\n",
      "/en/government/about.html\n"
     ]
    }
   ],
   "source": [
    "for n in all_links:\n",
    "    try:\n",
    "        data = requests.get(n)\n",
    "        # extract the phone numbers, emails, whatever\n",
    "        phones = (re.findall(r\"((?:\\d{3}|\\(\\d{3}\\))?(?:\\s|-|\\.)?\\d{3}(?:\\s|-|\\.)\\d{4})\",data.text))\n",
    "        emails = (re.findall(r\"[A-Za-z0-9._%+-]+@[A-Za-z0-9.-]+\\.[A-Za-z]{2,4}\",website))\n",
    "\n",
    "    except:\n",
    "        print(n)\n",
    "        continue"
   ]
  },
  {
   "cell_type": "code",
   "execution_count": 17,
   "metadata": {
    "collapsed": false
   },
   "outputs": [
    {
     "data": {
      "text/plain": [
       "['002005-0008', '605379.1867', '445363.1441']"
      ]
     },
     "execution_count": 17,
     "metadata": {},
     "output_type": "execute_result"
    }
   ],
   "source": [
    "phones"
   ]
  },
  {
   "cell_type": "code",
   "execution_count": 18,
   "metadata": {
    "collapsed": false
   },
   "outputs": [
    {
     "data": {
      "text/plain": [
       "[]"
      ]
     },
     "execution_count": 18,
     "metadata": {},
     "output_type": "execute_result"
    }
   ],
   "source": [
    "emails"
   ]
  },
  {
   "cell_type": "code",
   "execution_count": null,
   "metadata": {
    "collapsed": true
   },
   "outputs": [],
   "source": []
  },
  {
   "cell_type": "code",
   "execution_count": null,
   "metadata": {
    "collapsed": true
   },
   "outputs": [],
   "source": []
  }
 ],
 "metadata": {
  "kernelspec": {
   "display_name": "Python [conda root]",
   "language": "python",
   "name": "conda-root-py"
  },
  "language_info": {
   "codemirror_mode": {
    "name": "ipython",
    "version": 3
   },
   "file_extension": ".py",
   "mimetype": "text/x-python",
   "name": "python",
   "nbconvert_exporter": "python",
   "pygments_lexer": "ipython3",
   "version": "3.5.2"
  }
 },
 "nbformat": 4,
 "nbformat_minor": 1
}
